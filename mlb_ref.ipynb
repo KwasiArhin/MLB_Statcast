{
 "cells": [
  {
   "cell_type": "code",
   "execution_count": 1,
   "metadata": {},
   "outputs": [],
   "source": [
    "import requests \n",
    "from bs4 import BeautifulSoup\n",
    "import pandas as pd "
   ]
  },
  {
   "cell_type": "code",
   "execution_count": 2,
   "metadata": {},
   "outputs": [],
   "source": [
    "bbref_url = 'https://www.baseball-reference.com/players/gl.fcgi?id={id}&t=p&year={year}'\n",
    "player_name = 'Matt Boyd'\n",
    "year = 2019 \n",
    "file_player_name = player_name.lower().replace(' ', '_')\n",
    "out_path = f'data/{file_player_name}_{year}.csv'"
   ]
  },
  {
   "cell_type": "code",
   "execution_count": 3,
   "metadata": {},
   "outputs": [],
   "source": [
    "#Building url \n",
    "first_name, last_name = player_name.split(' ')\n",
    "player_id = last_name[:5] + first_name[:2] + '01'\n",
    "player_id = player_id.lower()\n",
    "url = bbref_url.format(id=player_id,year=year)"
   ]
  },
  {
   "cell_type": "code",
   "execution_count": 4,
   "metadata": {},
   "outputs": [],
   "source": [
    "# for year in range(2000,2020):\n",
    "#     url = bbref_url.format(id=player_id,year=year)\n",
    "#     print(url)"
   ]
  },
  {
   "cell_type": "code",
   "execution_count": 5,
   "metadata": {},
   "outputs": [],
   "source": [
    "#webpage retrieval \n",
    "response = requests.get(url)\n",
    "webpage = response.text\n",
    "soup = BeautifulSoup(webpage)\n",
    "gamelog = soup.select_one('#pitching_gamelogs')\n",
    "gl = str(gamelog)"
   ]
  },
  {
   "cell_type": "code",
   "execution_count": 6,
   "metadata": {},
   "outputs": [],
   "source": [
    "#dataframe stuff\n",
    "p_df = pd.read_html(gl)[0]\n",
    "p_df['SO']= pd.to_numeric(p_df['SO'],errors='coerce')\n",
    "p_df = p_df.dropna(subset=['Gtm','SO'])\n",
    "p_df['player']= player_name\n",
    "p_df.to_csv(out_path,index=False)"
   ]
  },
  {
   "cell_type": "code",
   "execution_count": 7,
   "metadata": {},
   "outputs": [
    {
     "data": {
      "text/plain": [
       "'https://www.baseball-reference.com/players/gl.fcgi?id=boydma01&t=p&year=2019'"
      ]
     },
     "execution_count": 7,
     "metadata": {},
     "output_type": "execute_result"
    }
   ],
   "source": [
    "url "
   ]
  },
  {
   "cell_type": "code",
   "execution_count": 8,
   "metadata": {},
   "outputs": [
    {
     "name": "stdout",
     "output_type": "stream",
     "text": [
      "<class 'pandas.core.frame.DataFrame'>\n",
      "Int64Index: 32 entries, 0 to 36\n",
      "Data columns (total 51 columns):\n",
      "Rk            32 non-null object\n",
      "Gcar          32 non-null object\n",
      "Gtm           32 non-null object\n",
      "Date          32 non-null object\n",
      "Tm            32 non-null object\n",
      "Unnamed: 5    17 non-null object\n",
      "Opp           32 non-null object\n",
      "Rslt          32 non-null object\n",
      "Inngs         32 non-null object\n",
      "Dec           21 non-null object\n",
      "DR            32 non-null object\n",
      "IP            32 non-null object\n",
      "H             32 non-null object\n",
      "R             32 non-null object\n",
      "ER            32 non-null object\n",
      "BB            32 non-null object\n",
      "SO            32 non-null float64\n",
      "HR            32 non-null object\n",
      "HBP           32 non-null object\n",
      "ERA           32 non-null object\n",
      "BF            32 non-null object\n",
      "Pit           32 non-null object\n",
      "Str           32 non-null object\n",
      "StL           32 non-null object\n",
      "StS           32 non-null object\n",
      "GB            32 non-null object\n",
      "FB            32 non-null object\n",
      "LD            32 non-null object\n",
      "PU            32 non-null object\n",
      "Unk           32 non-null object\n",
      "GSc           32 non-null object\n",
      "IR            0 non-null object\n",
      "IS            0 non-null object\n",
      "SB            32 non-null object\n",
      "CS            32 non-null object\n",
      "PO            32 non-null object\n",
      "AB            32 non-null object\n",
      "2B            32 non-null object\n",
      "3B            32 non-null object\n",
      "IBB           32 non-null object\n",
      "GDP           32 non-null object\n",
      "SF            32 non-null object\n",
      "ROE           32 non-null object\n",
      "aLI           32 non-null object\n",
      "WPA           32 non-null object\n",
      "RE24          32 non-null object\n",
      "DFS(DK)       32 non-null object\n",
      "DFS(FD)       32 non-null object\n",
      "Entered       32 non-null object\n",
      "Exited        32 non-null object\n",
      "player        32 non-null object\n",
      "dtypes: float64(1), object(50)\n",
      "memory usage: 13.0+ KB\n"
     ]
    }
   ],
   "source": [
    "p_df.info()"
   ]
  },
  {
   "cell_type": "code",
   "execution_count": null,
   "metadata": {},
   "outputs": [],
   "source": []
  }
 ],
 "metadata": {
  "kernelspec": {
   "display_name": "Python 3",
   "language": "python",
   "name": "python3"
  },
  "language_info": {
   "codemirror_mode": {
    "name": "ipython",
    "version": 3
   },
   "file_extension": ".py",
   "mimetype": "text/x-python",
   "name": "python",
   "nbconvert_exporter": "python",
   "pygments_lexer": "ipython3",
   "version": "3.7.4"
  },
  "toc": {
   "base_numbering": 1,
   "nav_menu": {},
   "number_sections": true,
   "sideBar": true,
   "skip_h1_title": false,
   "title_cell": "Table of Contents",
   "title_sidebar": "Contents",
   "toc_cell": false,
   "toc_position": {},
   "toc_section_display": true,
   "toc_window_display": false
  }
 },
 "nbformat": 4,
 "nbformat_minor": 2
}
