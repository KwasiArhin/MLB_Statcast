{
 "cells": [
  {
   "cell_type": "code",
   "execution_count": 1,
   "metadata": {},
   "outputs": [],
   "source": [
    "import requests \n",
    "from bs4 import BeautifulSoup\n",
    "import pandas as pd "
   ]
  },
  {
   "cell_type": "code",
   "execution_count": 2,
   "metadata": {},
   "outputs": [],
   "source": [
    "bbref_url = 'https://www.baseball-reference.com/players/gl.fcgi?id={id}&t=p&year={year}'\n",
    "player_name = 'Justin Verlander'\n",
    "year = 2019 \n",
    "file_player_name = player_name.lower().replace(' ', '_')\n",
    "out_path = f'data/{file_player_name}_{year}.csv'"
   ]
  },
  {
   "cell_type": "code",
   "execution_count": 3,
   "metadata": {},
   "outputs": [],
   "source": [
    "#Building url \n",
    "first_name, last_name = player_name.split(' ')\n",
    "player_id = last_name[:5] + first_name[:2] + '01'\n",
    "player_id = player_id.lower()\n",
    "url = bbref_url.format(id=player_id,year=year)"
   ]
  },
  {
   "cell_type": "code",
   "execution_count": 4,
   "metadata": {},
   "outputs": [],
   "source": [
    "# for year in range(2000,2020):\n",
    "#     url = bbref_url.format(id=player_id,year=year)\n",
    "#     print(url)"
   ]
  },
  {
   "cell_type": "code",
   "execution_count": 5,
   "metadata": {},
   "outputs": [],
   "source": [
    "#webpage retrieval \n",
    "response = requests.get(url)\n",
    "webpage = response.text\n",
    "soup = BeautifulSoup(webpage)\n",
    "gamelog = soup.select_one('#pitching_gamelogs')\n",
    "gl = str(gamelog)"
   ]
  },
  {
   "cell_type": "code",
   "execution_count": 8,
   "metadata": {},
   "outputs": [],
   "source": [
    "#dataframe stuff\n",
    "p_df = pd.read_html(gl)[0]\n",
    "p_df = p_df.dropna(subset=['Gtm'])\n",
    "p_df.to_csv(out_path,index=False)"
   ]
  },
  {
   "cell_type": "code",
   "execution_count": null,
   "metadata": {},
   "outputs": [],
   "source": []
  }
 ],
 "metadata": {
  "kernelspec": {
   "display_name": "Python 3",
   "language": "python",
   "name": "python3"
  },
  "language_info": {
   "codemirror_mode": {
    "name": "ipython",
    "version": 3
   },
   "file_extension": ".py",
   "mimetype": "text/x-python",
   "name": "python",
   "nbconvert_exporter": "python",
   "pygments_lexer": "ipython3",
   "version": "3.7.1"
  },
  "toc": {
   "base_numbering": 1,
   "nav_menu": {},
   "number_sections": true,
   "sideBar": true,
   "skip_h1_title": false,
   "title_cell": "Table of Contents",
   "title_sidebar": "Contents",
   "toc_cell": false,
   "toc_position": {},
   "toc_section_display": true,
   "toc_window_display": false
  }
 },
 "nbformat": 4,
 "nbformat_minor": 2
}
